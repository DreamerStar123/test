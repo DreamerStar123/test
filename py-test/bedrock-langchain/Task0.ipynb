{
 "cells": [
  {
   "cell_type": "markdown",
   "metadata": {},
   "source": [
    "# Amazon Bedrock boto3 Setup\n",
    "---\n",
    "\n",
    "In this demo notebook, we demonstrate how to use the [`boto3` Python SDK](https://boto3.amazonaws.com/v1/documentation/api/latest/index.html) to work with [Amazon Bedrock](https://aws.amazon.com/bedrock/) Foundation Models.\n",
    "\n",
    "---\n",
    "## Prerequisites\n",
    "\n",
    "Run the cells in this section to install the packages needed by the notebooks. ⚠️ You will see pip dependency errors, you can safely ignore these errors. ⚠️\n",
    "\n",
    "IGNORE ERROR: pip's dependency resolver does not currently take into account all the packages that are installed. This behaviour is the source of the following dependency conflicts."
   ]
  },
  {
   "cell_type": "code",
   "execution_count": null,
   "metadata": {},
   "outputs": [],
   "source": [
    "%pip uninstall -y langchain langchain-core langchain-text-splitters langchain-community langchain-aws SQLAlchemy pydantic pydantic-core\n",
    "%pip install --no-build-isolation --force-reinstall \\\n",
    "                \"boto3>=1.28.57\" \\\n",
    "                \"awscli>=1.29.57\" \\\n",
    "                \"botocore>=1.31.57\"\n",
    "\n",
    "%pip install --quiet \\\n",
    "                \"transformers>=4.24,<5\" \\\n",
    "                \"pypdf>=3.8\" \\\n",
    "                datasets \\\n",
    "                \"langchain>=0.3,<0.4\" \\\n",
    "                \"langchain-core>=0.3,<0.4\" \\\n",
    "                \"langchain-community >=0.3,<0.4\" \\\n",
    "                \"langchain-text-splitters>=0.3,<0.4\" \\\n",
    "                \"langchain-aws>=0.2,<0.3\" \\\n",
    "                langgraph \\\n",
    "                \"pydantic>=2,<3\" \\\n",
    "                faiss-cpu\n",
    "                \n",
    "%pip install --force-reinstall SQLAlchemy\n",
    "%pip install numexpr\n",
    "%pip install anthropic"
   ]
  },
  {
   "cell_type": "markdown",
   "metadata": {},
   "source": [
    "### Restart the kernel after running the above cell"
   ]
  }
 ],
 "metadata": {
  "kernelspec": {
   "display_name": "Python 3 (ipykernel)",
   "language": "python",
   "name": "python3"
  },
  "language_info": {
   "codemirror_mode": {
    "name": "ipython",
    "version": 3
   },
   "file_extension": ".py",
   "mimetype": "text/x-python",
   "name": "python",
   "nbconvert_exporter": "python",
   "pygments_lexer": "ipython3",
   "version": "3.11.9"
  }
 },
 "nbformat": 4,
 "nbformat_minor": 4
}
